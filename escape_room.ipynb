{
 "cells": [
  {
   "cell_type": "code",
   "execution_count": 1,
   "id": "ec160169",
   "metadata": {
    "scrolled": false
   },
   "outputs": [
    {
     "data": {
      "application/vnd.jupyter.widget-view+json": {
       "model_id": "81c9db25131544cc80642a50abf20c55",
       "version_major": 2,
       "version_minor": 0
      },
      "text/plain": [
       "HTML(value='<h2>🔐 Stage 1:</h2><p>What is the name of the victim?</p>')"
      ]
     },
     "metadata": {},
     "output_type": "display_data"
    },
    {
     "data": {
      "application/vnd.jupyter.widget-view+json": {
       "model_id": "7fec11feef0d411aac4bdc702ebf0f64",
       "version_major": 2,
       "version_minor": 0
      },
      "text/plain": [
       "HBox(children=(Text(value='', description='Answer:', placeholder='Type your answer here'), Button(button_style…"
      ]
     },
     "metadata": {},
     "output_type": "display_data"
    },
    {
     "data": {
      "application/vnd.jupyter.widget-view+json": {
       "model_id": "6eab05d72822490480377b451332b769",
       "version_major": 2,
       "version_minor": 0
      },
      "text/plain": [
       "Output()"
      ]
     },
     "metadata": {},
     "output_type": "display_data"
    }
   ],
   "source": [
    "from IPython.display import display, clear_output\n",
    "import ipywidgets as widgets\n",
    "import warnings\n",
    "import time\n",
    "warnings.filterwarnings('ignore')\n",
    "\n",
    "def create_input_and_button(description=\"Answer:\", placeholder=\"Type your answer here\"):\n",
    "    input_box = widgets.Text(description=description, placeholder=placeholder)\n",
    "    button = widgets.Button(description='Submit', button_style='primary')\n",
    "    return input_box, button\n",
    "\n",
    "def show_stage4():\n",
    "    question = widgets.HTML(\"<h2>🔐 Last Stage:</h2><p>Focus on the previous message.<p>Who is murderer?<p>(Evelyn Marsh/Mark Langdon/Sharah Collins/Liam Turner)</p></p>❗You can only submit your answer once❗\")\n",
    "    input_box, button = create_input_and_button()\n",
    "    output = widgets.Output()\n",
    "\n",
    "    def check_answer(sender=None):\n",
    "        output.clear_output()\n",
    "        with output:\n",
    "            if input_box.value.strip().lower() == \"evelyn marsh\":\n",
    "                print(\"Correct! You escaped the room! 🎉🎉\")\n",
    "                input_box.disabled = True\n",
    "                button.disabled = True\n",
    "            else:\n",
    "                print(\"❌ Incorrect. Escape failed.\")\n",
    "                input_box.disabled = True\n",
    "                button.disabled = True\n",
    "\n",
    "    input_box.on_submit(check_answer)\n",
    "    button.on_click(check_answer)\n",
    "\n",
    "    display(question, widgets.HBox([input_box, button]), output)\n",
    "\n",
    "    \n",
    "\n",
    "        \n",
    "    \n",
    "    \n",
    "def show_stage3():\n",
    "    question = widgets.HTML(\"<h2>🔐 Stage 3:</h2><p>What message did you find on the grid paper?</p>\")\n",
    "    input_box, button = create_input_and_button()\n",
    "    output = widgets.Output()\n",
    "\n",
    "    def check_answer(sender=None):\n",
    "        output.clear_output()\n",
    "        with output:\n",
    "            if input_box.value.strip().lower() == \"the time is important\":\n",
    "                print(\"✅ 🕒🕒 Correct! Moving to the next stage...\\n\")\n",
    "                input_box.disabled = True\n",
    "                button.disabled = True\n",
    "                time.sleep(0.5)\n",
    "                show_stage4()\n",
    "            else:\n",
    "                print(\"❌ Incorrect. Try again.\")\n",
    "                time.sleep(1)\n",
    "                output.clear_output(wait=True)\n",
    "\n",
    "    input_box.on_submit(check_answer)\n",
    "    button.on_click(check_answer)\n",
    "\n",
    "    display(question, widgets.HBox([input_box, button]), output)\n",
    "    \n",
    "    \n",
    "    \n",
    "def show_stage2():\n",
    "    question = widgets.HTML(\"<h2>🔐 Stage 2:</h2><p>What is the weapon?</p>\")\n",
    "    input_box, button = create_input_and_button()\n",
    "    output = widgets.Output()\n",
    "\n",
    "    def check_answer(sender=None):\n",
    "        output.clear_output()\n",
    "        with output:\n",
    "            if input_box.value.strip().lower() == \"knife\":\n",
    "                print(\"✅ Correct! Moving to the next stage...\\n\")\n",
    "                input_box.disabled = True\n",
    "                button.disabled = True\n",
    "                time.sleep(0.5)\n",
    "                show_stage3()\n",
    "            else:\n",
    "                print(\"❌ Incorrect. Try again.\")\n",
    "                time.sleep(1)\n",
    "                output.clear_output(wait=True)\n",
    "\n",
    "    input_box.on_submit(check_answer)\n",
    "    button.on_click(check_answer)\n",
    "\n",
    "    display(question, widgets.HBox([input_box, button]), output)\n",
    "    \n",
    "    \n",
    "def show_stage1():\n",
    "    clear_output()\n",
    "    question = widgets.HTML(\"<h2>🔐 Stage 1:</h2><p>What is the name of the victim?</p>\")\n",
    "    input_box, button = create_input_and_button()\n",
    "    output = widgets.Output()\n",
    "\n",
    "    def check_answer(sender=None):\n",
    "        output.clear_output()\n",
    "        with output:\n",
    "            if input_box.value.strip().lower() == \"adrian falk\":\n",
    "                print(\"✅ Correct! Moving to the next stage...\\n\")\n",
    "                input_box.disabled = True\n",
    "                button.disabled = True\n",
    "                time.sleep(0.5)\n",
    "                show_stage2()\n",
    "            else:\n",
    "                print(\"❌ Incorrect. Try again.\")\n",
    "                time.sleep(1)\n",
    "                output.clear_output(wait=True)\n",
    "\n",
    "    input_box.on_submit(check_answer)\n",
    "    button.on_click(check_answer)\n",
    "\n",
    "    display(question, widgets.HBox([input_box, button]), output)\n",
    "\n",
    "# ▶️ Start the escape room\n",
    "show_stage1()\n"
   ]
  },
  {
   "cell_type": "code",
   "execution_count": null,
   "id": "a7c8bc3a",
   "metadata": {},
   "outputs": [],
   "source": []
  }
 ],
 "metadata": {
  "kernelspec": {
   "display_name": "Python 3 (ipykernel)",
   "language": "python",
   "name": "python3"
  },
  "language_info": {
   "codemirror_mode": {
    "name": "ipython",
    "version": 3
   },
   "file_extension": ".py",
   "mimetype": "text/x-python",
   "name": "python",
   "nbconvert_exporter": "python",
   "pygments_lexer": "ipython3",
   "version": "3.11.5"
  }
 },
 "nbformat": 4,
 "nbformat_minor": 5
}
