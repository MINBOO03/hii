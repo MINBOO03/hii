{
 "cells": [
  {
   "cell_type": "code",
   "execution_count": 1,
   "id": "ec160169",
   "metadata": {},
   "outputs": [
    {
     "data": {
      "application/vnd.jupyter.widget-view+json": {
       "model_id": "9805cc9d5a484125bbd586633c4b8a56",
       "version_major": 2,
       "version_minor": 0
      },
      "text/plain": [
       "HTML(value=\"<h2>🔐 Stage 1:</h2><p>What is your teacher's name?</p><p>(Hint: It starts with 'A')</p>\")"
      ]
     },
     "metadata": {},
     "output_type": "display_data"
    },
    {
     "data": {
      "application/vnd.jupyter.widget-view+json": {
       "model_id": "6bb39a2e44984a38a8e828daf52b5376",
       "version_major": 2,
       "version_minor": 0
      },
      "text/plain": [
       "HBox(children=(Text(value='', description='Answer:', placeholder='Type your answer here'), Button(button_style…"
      ]
     },
     "metadata": {},
     "output_type": "display_data"
    },
    {
     "data": {
      "application/vnd.jupyter.widget-view+json": {
       "model_id": "8f13c684492d424cacd733b43df19231",
       "version_major": 2,
       "version_minor": 0
      },
      "text/plain": [
       "Output()"
      ]
     },
     "metadata": {},
     "output_type": "display_data"
    }
   ],
   "source": [
    "from IPython.display import display, clear_output\n",
    "import ipywidgets as widgets\n",
    "import warnings\n",
    "import time\n",
    "warnings.filterwarnings('ignore')\n",
    "\n",
    "def create_input_and_button(description=\"Answer:\", placeholder=\"Type your answer here\"):\n",
    "    input_box = widgets.Text(description=description, placeholder=placeholder)\n",
    "    button = widgets.Button(description='Submit', button_style='primary')\n",
    "    return input_box, button\n",
    "\n",
    "def show_stage2():\n",
    "    question = widgets.HTML(\"<h2>🔐 Stage 2:</h2><p>What red fruit starts with the letter 'A'?</p>\")\n",
    "    input_box, button = create_input_and_button()\n",
    "    output = widgets.Output()\n",
    "\n",
    "    def check_answer(sender=None):\n",
    "        output.clear_output()\n",
    "        with output:\n",
    "            if input_box.value.strip().lower() == \"apple\":\n",
    "                print(\"🍎 Correct! You escaped the room! 🎉🎉\")\n",
    "                input_box.disabled = True\n",
    "                button.disabled = True\n",
    "            else:\n",
    "                print(\"❌ Incorrect. Try again.\")\n",
    "                time.sleep(1)\n",
    "                output.clear_output(wait=True)\n",
    "\n",
    "    input_box.on_submit(check_answer)\n",
    "    button.on_click(check_answer)\n",
    "\n",
    "    display(question, widgets.HBox([input_box, button]), output)\n",
    "\n",
    "def show_stage1():\n",
    "    clear_output()\n",
    "    question = widgets.HTML(\"<h2>🔐 Stage 1:</h2><p>What is your teacher's name?</p><p>(Hint: It starts with 'A')</p>\")\n",
    "    input_box, button = create_input_and_button()\n",
    "    output = widgets.Output()\n",
    "\n",
    "    def check_answer(sender=None):\n",
    "        output.clear_output()\n",
    "        with output:\n",
    "            if input_box.value.strip().lower() == \"antonia\":\n",
    "                print(\"✅ Correct! Moving to the next stage...\\n\")\n",
    "                input_box.disabled = True\n",
    "                button.disabled = True\n",
    "                time.sleep(0.5)\n",
    "                show_stage2()\n",
    "            else:\n",
    "                print(\"❌ Incorrect. Try again.\")\n",
    "                time.sleep(1)\n",
    "                output.clear_output(wait=True)\n",
    "\n",
    "    input_box.on_submit(check_answer)\n",
    "    button.on_click(check_answer)\n",
    "\n",
    "    display(question, widgets.HBox([input_box, button]), output)\n",
    "\n",
    "# ▶️ Start the escape room\n",
    "show_stage1()\n"
   ]
  },
  {
   "cell_type": "code",
   "execution_count": null,
   "id": "a7c8bc3a",
   "metadata": {},
   "outputs": [],
   "source": []
  }
 ],
 "metadata": {
  "kernelspec": {
   "display_name": "Python 3 (ipykernel)",
   "language": "python",
   "name": "python3"
  },
  "language_info": {
   "codemirror_mode": {
    "name": "ipython",
    "version": 3
   },
   "file_extension": ".py",
   "mimetype": "text/x-python",
   "name": "python",
   "nbconvert_exporter": "python",
   "pygments_lexer": "ipython3",
   "version": "3.11.5"
  }
 },
 "nbformat": 4,
 "nbformat_minor": 5
}
