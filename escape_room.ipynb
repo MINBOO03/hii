{
 "cells": [
  {
   "cell_type": "code",
   "execution_count": 4,
   "id": "ec160169",
   "metadata": {},
   "outputs": [
    {
     "data": {
      "application/vnd.jupyter.widget-view+json": {
       "model_id": "a84983e066cb4a99953d4e66fea22fcd",
       "version_major": 2,
       "version_minor": 0
      },
      "text/plain": [
       "HTML(value=\"<h2>🔐 1단계 문제:</h2><p>빨간색이며, 과일이고, 한자로는 '沙果'입니다. 무엇일까요?</p>\")"
      ]
     },
     "metadata": {},
     "output_type": "display_data"
    },
    {
     "data": {
      "application/vnd.jupyter.widget-view+json": {
       "model_id": "a624a72a2ae74a42aff21fd61d3042fe",
       "version_major": 2,
       "version_minor": 0
      },
      "text/plain": [
       "Text(value='', description='정답:', placeholder='정답을 입력하세요')"
      ]
     },
     "metadata": {},
     "output_type": "display_data"
    },
    {
     "data": {
      "application/vnd.jupyter.widget-view+json": {
       "model_id": "9a31cc9cccff422fa9b1384ce8173d93",
       "version_major": 2,
       "version_minor": 0
      },
      "text/plain": [
       "Output()"
      ]
     },
     "metadata": {},
     "output_type": "display_data"
    }
   ],
   "source": [
    "from IPython.display import display, clear_output\n",
    "import ipywidgets as widgets\n",
    "import warnings\n",
    "import time\n",
    "warnings.filterwarnings('ignore')\n",
    "\n",
    "def create_input_and_button(description=\"Answer:\", placeholder=\"Type your answer here\"):\n",
    "    input_box = widgets.Text(description=description, placeholder=placeholder)\n",
    "    button = widgets.Button(description='Submit', button_style='primary')\n",
    "    return input_box, button\n",
    "\n",
    "def show_stage2():\n",
    "    question = widgets.HTML(\"<h2>🔐 Stage 2:</h2><p>What red fruit starts with the letter 'A'?</p>\")\n",
    "    input_box, button = create_input_and_button()\n",
    "    output = widgets.Output()\n",
    "\n",
    "    def check_answer(sender=None):\n",
    "        output.clear_output()\n",
    "        with output:\n",
    "            if input_box.value.strip().lower() == \"apple\":\n",
    "                print(\"🍎 Correct! You escaped the room! 🎉🎉\")\n",
    "                input_box.disabled = True\n",
    "                button.disabled = True\n",
    "            else:\n",
    "                print(\"❌ Incorrect. Try again.\")\n",
    "                time.sleep(1)\n",
    "                output.clear_output(wait=True)\n",
    "\n",
    "    input_box.on_submit(check_answer)\n",
    "    button.on_click(check_answer)\n",
    "\n",
    "    display(question, widgets.HBox([input_box, button]), output)\n",
    "\n",
    "def show_stage1():\n",
    "    clear_output()\n",
    "    question = widgets.HTML(\"<h2>🔐 Stage 1:</h2><p>What is your teacher's name?</p><p>(Hint: It starts with 'A')</p>\")\n",
    "    input_box, button = create_input_and_button()\n",
    "    output = widgets.Output()\n",
    "\n",
    "    def check_answer(sender=None):\n",
    "        output.clear_output()\n",
    "        with output:\n",
    "            if input_box.value.strip().lower() == \"antonia\":\n",
    "                print(\"✅ Correct! Moving to the next stage...\\n\")\n",
    "                input_box.disabled = True\n",
    "                button.disabled = True\n",
    "                time.sleep(0.5)\n",
    "                show_stage2()\n",
    "            else:\n",
    "                print(\"❌ Incorrect. Try again.\")\n",
    "                time.sleep(1)\n",
    "                output.clear_output(wait=True)\n",
    "\n",
    "    input_box.on_submit(check_answer)\n",
    "    button.on_click(check_answer)\n",
    "\n",
    "    display(question, widgets.HBox([input_box, button]), output)\n",
    "\n",
    "# ▶️ Start the escape room\n",
    "show_stage1()\n"
   ]
  },
  {
   "cell_type": "code",
   "execution_count": null,
   "id": "a7c8bc3a",
   "metadata": {},
   "outputs": [],
   "source": []
  }
 ],
 "metadata": {
  "kernelspec": {
   "display_name": "Python 3 (ipykernel)",
   "language": "python",
   "name": "python3"
  },
  "language_info": {
   "codemirror_mode": {
    "name": "ipython",
    "version": 3
   },
   "file_extension": ".py",
   "mimetype": "text/x-python",
   "name": "python",
   "nbconvert_exporter": "python",
   "pygments_lexer": "ipython3",
   "version": "3.11.5"
  }
 },
 "nbformat": 4,
 "nbformat_minor": 5
}
